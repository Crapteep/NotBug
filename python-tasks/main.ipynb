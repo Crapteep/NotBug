{
 "cells": [
  {
   "cell_type": "code",
   "execution_count": 1,
   "metadata": {},
   "outputs": [
    {
     "name": "stdout",
     "output_type": "stream",
     "text": [
      "[{'name': 'Kamil', 'country': 'Poland'}]\n"
     ]
    }
   ],
   "source": [
    "users = [\n",
    "    {\"name\": \"Kamil\", \"country\": \"Poland\"},\n",
    "    {\"name\": \"John\", \"country\": \"USA\"},\n",
    "    {\"name\": \"Yeti\"}\n",
    "]\n",
    "\n",
    "users_from_poland = [user for user in users if user.get(\"country\", None) == 'Poland']\n",
    "print(users_from_poland)"
   ]
  },
  {
   "cell_type": "code",
   "execution_count": 2,
   "metadata": {},
   "outputs": [
    {
     "name": "stdout",
     "output_type": "stream",
     "text": [
      "The sum of 10 elements starting from 5 is 80\n"
     ]
    }
   ],
   "source": [
    "numbers = [1,5,2,3,1,4,1,23,12,2,3,1,2,31,23,1,2,3,1,23,1,2,3,123]\n",
    "start_index = 4\n",
    "length = 10\n",
    "end_index = start_index + length\n",
    "\n",
    "result = sum(numbers[start_index:end_index])\n",
    "print(f\"The sum of {length} elements starting from {start_index + 1} is {result}\")\n"
   ]
  },
  {
   "cell_type": "code",
   "execution_count": 3,
   "metadata": {},
   "outputs": [
    {
     "name": "stdout",
     "output_type": "stream",
     "text": [
      "[2, 4, 8, 16, 32, 64, 128, 256, 512, 1024, 2048, 4096, 8192, 16384, 32768, 65536, 131072, 262144, 524288, 1048576]\n"
     ]
    }
   ],
   "source": [
    "powers_of_2 = [2 ** n for n in range(1,21)]\n",
    "print(powers_of_2)\n"
   ]
  }
 ],
 "metadata": {
  "kernelspec": {
   "display_name": "backend-7PzeUqJR-py3.12",
   "language": "python",
   "name": "python3"
  },
  "language_info": {
   "codemirror_mode": {
    "name": "ipython",
    "version": 3
   },
   "file_extension": ".py",
   "mimetype": "text/x-python",
   "name": "python",
   "nbconvert_exporter": "python",
   "pygments_lexer": "ipython3",
   "version": "3.12.3"
  }
 },
 "nbformat": 4,
 "nbformat_minor": 2
}
